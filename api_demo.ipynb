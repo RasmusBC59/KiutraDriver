{
 "cells": [
  {
   "cell_type": "code",
   "execution_count": 1,
   "metadata": {},
   "outputs": [],
   "source": [
    "from kiutra_api.api_client import KiutraClient"
   ]
  },
  {
   "cell_type": "code",
   "execution_count": null,
   "metadata": {},
   "outputs": [],
   "source": [
    "# Initiate RPCClient to communicate with \"kiutra base module\"\n",
    "host = '192.168.11.20'\n",
    "client = KiutraClient(host, 1006)"
   ]
  },
  {
   "cell_type": "code",
   "execution_count": null,
   "metadata": {},
   "outputs": [],
   "source": [
    "client.query('cryostat.status')"
   ]
  },
  {
   "cell_type": "code",
   "execution_count": null,
   "metadata": {},
   "outputs": [],
   "source": [
    "api_info = client.query('api_manager.api_info')"
   ]
  },
  {
   "cell_type": "code",
   "execution_count": null,
   "metadata": {},
   "outputs": [],
   "source": [
    "for device in api_info:\n",
    "    print(device)\n",
    "    print('------------------------------------------------------------------')\n",
    "    try:\n",
    "        api_functions = client.query(f\"{device}.api\")\n",
    "        functions = list(api_functions.keys())\n",
    "        for func in functions:\n",
    "            #print(api_functions[func])\n",
    "            try:\n",
    "                print(f'{func} query:\\n'+api_functions[func]['output_doc'])\n",
    "                print(f'{func} set:\\n'+api_functions[func]['input_doc'])\n",
    "            except:\n",
    "                try:\n",
    "                    print(f'{func} call:\\n' + api_functions[func]['doc'])\n",
    "                except:\n",
    "                    pass\n",
    "    except Exception as e:\n",
    "        print(e)\n",
    "        pass\n",
    "    print('------------------------------------------------------------------')\n",
    "    print('\\n')"
   ]
  },
  {
   "cell_type": "code",
   "execution_count": null,
   "metadata": {},
   "outputs": [],
   "source": [
    "print(client.query('api_manager.access_level'))"
   ]
  },
  {
   "cell_type": "code",
   "execution_count": null,
   "metadata": {},
   "outputs": [],
   "source": [
    "client.query('T_adr1.kelvin')"
   ]
  },
  {
   "cell_type": "code",
   "execution_count": null,
   "metadata": {},
   "outputs": [],
   "source": [
    "client.set('adr_control.pre_regenerate', True)"
   ]
  },
  {
   "cell_type": "code",
   "execution_count": null,
   "metadata": {},
   "outputs": [],
   "source": [
    "print(client.query('T_adr1.kelvin_buffer'))\n",
    "print(client.query('T_adr1.kelvin_rate'))\n",
    "print(client.query('T_adr1.kelvin_median'))\n",
    "print(client.query('T_adr1.kelvin_timestamp'))\n",
    "print(client.query('T_adr1.kelvin'))"
   ]
  },
  {
   "cell_type": "code",
   "execution_count": null,
   "metadata": {},
   "outputs": [],
   "source": [
    "client.query('adr_control.api')"
   ]
  },
  {
   "cell_type": "code",
   "execution_count": null,
   "metadata": {},
   "outputs": [],
   "source": [
    "client.call('adr_control.start_adr', setpoint=1.0, ramp=0.1, adr_mode=2, operation_mode=\"cadr\", auto_regenerate=False, pre_regenerate=True)"
   ]
  },
  {
   "cell_type": "code",
   "execution_count": null,
   "metadata": {},
   "outputs": [],
   "source": [
    "client.query('T_adr1.kelvin_rate')"
   ]
  },
  {
   "cell_type": "code",
   "execution_count": null,
   "metadata": {},
   "outputs": [],
   "source": [
    "client.call('cryostat.device_check')"
   ]
  },
  {
   "cell_type": "markdown",
   "metadata": {},
   "source": [
    "# Measurement Example"
   ]
  },
  {
   "cell_type": "code",
   "execution_count": null,
   "metadata": {},
   "outputs": [],
   "source": [
    "def spinning_cursor():\n",
    "    \"\"\"\n",
    "    Spinning cursor to show activity\n",
    "    \"\"\"\n",
    "    while True:\n",
    "        for cursor in '|/-\\\\':\n",
    "            yield cursor"
   ]
  },
  {
   "cell_type": "code",
   "execution_count": null,
   "metadata": {},
   "outputs": [],
   "source": [
    "def refresh_line(content):\n",
    "    print(content, end='\\r')"
   ]
  },
  {
   "cell_type": "code",
   "execution_count": null,
   "metadata": {},
   "outputs": [],
   "source": [
    "from kiutra_api.controller_interfaces import ContinuousTemperatureControl, MagnetControl, ADRControl\n",
    "import time\n",
    "\n",
    "spinner = spinning_cursor()\n",
    "\n",
    "host = '192.168.11.20'\n",
    "T_start = 0.2\n",
    "T_end = 6\n",
    "T_ramp = 0.3\n",
    "\n",
    "start_field = 0\n",
    "fields = [0.5, 2.0, 3.0]\n",
    "field_ramp = 0.5\n",
    "\n",
    "\n",
    "temperature_control = ContinuousTemperatureControl('temperature_control', host)\n",
    "sample_magnet = MagnetControl('sample_magnet', host)\n",
    "adr_control = ADRControl('adr_control', host)\n",
    "code, message = temperature_control.status\n",
    "temperature_control.reset()\n",
    "adr_control.recharge()\n",
    "\n",
    "\n",
    "T = temperature_control.kelvin\n",
    "B = sample_magnet.field\n",
    "\n",
    "print(f\"Initializing: T = {T} K, B = {B} T\")\n",
    "\n",
    "# prepare adr system for magnetic cooling\n",
    "# this is only necessary when the initial setpoint is below bath (~4 K) or to maximize cooling power/hold-time when ramping up and down\n",
    "# if only heating is required, this step can be skipped\n",
    "print(f\"Waiting for ADR system to be ready\")\n",
    "while adr_control.is_active:\n",
    "    T = temperature_control.kelvin\n",
    "    B = sample_magnet.field\n",
    "    refresh_line(f'{next(spinner)} - T = {T:.3f} K, B = {B:.3f} {\"T\":<2}')\n",
    "    time.sleep(1)\n",
    "print(\"\")\n",
    "\n",
    "# starting field-heated, zero-field cooled\n",
    "for field in fields:\n",
    "    print(f\"Starting field-heated, zero-field cooled sweep from {T_start} K to {T_end} K @ {T_ramp} K/min with a field of {field} T\")\n",
    "    # 1. ramp magnetic field to start_field\n",
    "    sample_magnet.start((start_field, field_ramp))\n",
    "    print(f\"Waiting for {start_field} T \")\n",
    "    while True:\n",
    "        T = temperature_control.kelvin\n",
    "        B = sample_magnet.field\n",
    "\n",
    "        stable = sample_magnet.stable\n",
    "        _, status = sample_magnet.status\n",
    "        refresh_line(f'{next(spinner)} - T = {T:.3f} K, B = {B:.3f} {\"T\":<2} ({status}, stable={stable})')\n",
    "        if stable:\n",
    "            break\n",
    "        time.sleep(1)\n",
    "    print(\"\")\n",
    "\n",
    "\n",
    "    T = temperature_control.kelvin\n",
    "    B = sample_magnet.field\n",
    "\n",
    "    print(f\"Magnet ready: T = {T} K, B = {B} T\")\n",
    "\n",
    "    # 2. go to start temperature\n",
    "    temperature_control.start((T_start, T_ramp))\n",
    "    print(f\"Waiting for {T_start} K \")\n",
    "    while True:\n",
    "        ramping_info = temperature_control.get_ramping_info()\n",
    "\n",
    "        T = temperature_control.kelvin\n",
    "        B = sample_magnet.field\n",
    "        refresh_line(f'{next(spinner)} - T = {T:.3f} K, B = {B:.3f} {\"T\":<2}')\n",
    "        if ramping_info['ramp_done'] and ramping_info['ready_to_ramp']:\n",
    "            # when whole ramp is covered, go on\n",
    "            break\n",
    "        time.sleep(1)\n",
    "    print(\"\")\n",
    "\n",
    "    T = temperature_control.kelvin\n",
    "    B = sample_magnet.field\n",
    "\n",
    "    print(f\"Temperature ready: T = {T} K, B = {B} T\")\n",
    "\n",
    "    # 3. ramp to target field\n",
    "    sample_magnet.start((field, field_ramp))\n",
    "    print(f\"Waiting for {field} T \")\n",
    "    while True:\n",
    "        T = temperature_control.kelvin\n",
    "        B = sample_magnet.field\n",
    "\n",
    "        stable = sample_magnet.stable\n",
    "        _, status = sample_magnet.status\n",
    "        refresh_line(f'{next(spinner)} - T = {T:.3f} K, B = {B:.3f} {\"T\":<2} ({status}, stable={stable})')\n",
    "        if stable:\n",
    "            break\n",
    "        time.sleep(1)\n",
    "    print(\"\")\n",
    "\n",
    "    T = temperature_control.kelvin\n",
    "    B = sample_magnet.field\n",
    "\n",
    "    print(f\"Magnet done: T = {T} K, B = {B} T\")\n",
    "\n",
    "    # 4. ramp to target temperature\n",
    "    temperature_control.start((T_end, T_ramp))\n",
    "    print(f\"Waiting for {T_end} K \")\n",
    "    while True:\n",
    "        ramping_info = temperature_control.get_ramping_info()\n",
    "        T = temperature_control.kelvin\n",
    "        B = sample_magnet.field\n",
    "        refresh_line(f'{next(spinner)} - T = {T:.3f} K, B = {B:.3f} {\"T\":<2}')\n",
    "        if ramping_info['ramp_done'] and ramping_info['ready_to_ramp'] and ramping_info['stable']: # some of the checks are redundant\n",
    "            # when whole ramp is covered, go on\n",
    "            break\n",
    "        time.sleep(1)\n",
    "    print(\"\")\n",
    "\n",
    "    T = temperature_control.kelvin\n",
    "    B = sample_magnet.field\n",
    "\n",
    "    print(f\"Temperature done: T = {T} K, B = {B} T\")\n",
    "    print(f\"Finished sweep from {T_start} K to {T_end} K @ {T_ramp} K/min with a field of {field} T\")\n",
    "    # repeat\n",
    "print(\"--------------------------> done\")\n",
    "\n",
    "# temperature_control.start_sequence([(0.1, 0.15, 120), (5.0, 0.2, 0)])\n",
    "\n"
   ]
  },
  {
   "cell_type": "code",
   "execution_count": null,
   "metadata": {},
   "outputs": [],
   "source": []
  }
 ],
 "metadata": {
  "kernelspec": {
   "display_name": "Python 3",
   "language": "python",
   "name": "python3"
  },
  "language_info": {
   "codemirror_mode": {
    "name": "ipython",
    "version": 3
   },
   "file_extension": ".py",
   "mimetype": "text/x-python",
   "name": "python",
   "nbconvert_exporter": "python",
   "pygments_lexer": "ipython3",
   "version": "3.8.10"
  }
 },
 "nbformat": 4,
 "nbformat_minor": 5
}
